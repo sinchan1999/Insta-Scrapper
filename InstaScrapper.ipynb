{
 "cells": [
  {
   "cell_type": "markdown",
   "id": "e5184839",
   "metadata": {},
   "source": [
    "# Insta Scrapper"
   ]
  },
  {
   "cell_type": "code",
   "execution_count": null,
   "id": "a605189a",
   "metadata": {},
   "outputs": [],
   "source": [
    "import instaloader\n",
    "\n",
    "# Create an instance of Instaloader class\n",
    "bot = instaloader.Instaloader()\n",
    "\n",
    "# Load a profile from an Instagram handle\n",
    "profile = instaloader.Profile.from_username(bot.context, 'your username')\n",
    "\n",
    "print(type(profile))"
   ]
  },
  {
   "cell_type": "markdown",
   "id": "215cc9e3",
   "metadata": {},
   "source": [
    "# Displaying your Profile details"
   ]
  },
  {
   "cell_type": "code",
   "execution_count": null,
   "id": "7b39442b",
   "metadata": {},
   "outputs": [],
   "source": [
    "print(\"Username: \", profile.username)\n",
    "print(\"User ID: \", profile.userid)\n",
    "print(\"Number of Posts: \", profile.mediacount)\n",
    "print(\"Followers: \", profile.followers)\n",
    "print(\"Followees: \", profile.followees)\n",
    "print(\"Bio: \", profile.biography,profile.external_url)"
   ]
  },
  {
   "cell_type": "markdown",
   "id": "134d2df9",
   "metadata": {},
   "source": [
    "# Logging in your account.\n",
    "## NOTE: Two factor-authorisation must be turned off before login."
   ]
  },
  {
   "cell_type": "code",
   "execution_count": null,
   "id": "cb4404bd",
   "metadata": {},
   "outputs": [],
   "source": [
    "# Login with username and password in the script\n",
    "bot.login(user=\"your username\",passwd=\"your password\")\n"
   ]
  },
  {
   "cell_type": "markdown",
   "id": "c2dcf899",
   "metadata": {},
   "source": [
    "# Fetching target person's details"
   ]
  },
  {
   "cell_type": "code",
   "execution_count": null,
   "id": "8953a230",
   "metadata": {},
   "outputs": [],
   "source": [
    "# Retrieve the usernames of all followers\n",
    "followers = [follower.username for follower in profile.get_followers()]\n",
    "\n",
    "# Retrieve the usernames of all followees\n",
    "#followees = [followee.username for followee in profile.get_followees()]\n",
    "print(followers)"
   ]
  },
  {
   "cell_type": "code",
   "execution_count": null,
   "id": "2db5d47c",
   "metadata": {},
   "outputs": [],
   "source": [
    "# Loading a new profile\n",
    "profile = instaloader.Profile.from_username(bot.context, 'target username')\n",
    "\n",
    "# Get all posts in a generator object\n",
    "posts = profile.get_posts()\n",
    "\n",
    "# Iterate and download\n",
    "for index, post in enumerate(posts, 1):\n",
    "    bot.download_post(post, target=f\"{profile.username}_{index}\")"
   ]
  },
  {
   "cell_type": "code",
   "execution_count": null,
   "id": "dd0633e3",
   "metadata": {},
   "outputs": [],
   "source": []
  }
 ],
 "metadata": {
  "kernelspec": {
   "display_name": "Python 3",
   "language": "python",
   "name": "python3"
  },
  "language_info": {
   "codemirror_mode": {
    "name": "ipython",
    "version": 3
   },
   "file_extension": ".py",
   "mimetype": "text/x-python",
   "name": "python",
   "nbconvert_exporter": "python",
   "pygments_lexer": "ipython3",
   "version": "3.9.6"
  }
 },
 "nbformat": 4,
 "nbformat_minor": 5
}
